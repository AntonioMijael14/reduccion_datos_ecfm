{
 "cells": [
  {
   "cell_type": "markdown",
   "id": "69699c2c-3d6d-4e34-8ae7-ec1fb83be821",
   "metadata": {},
   "source": [
    "# Tarea 1\n",
    "- En este notebook documentar en una celda con formato Markdown un ensayo de:\n",
    "    - Porque es importante versionar el codigo, y como nos puede ayudar esto en una investigación en el area de fisica\n",
    "    - Git, Github\n",
    "    - Que es un repositorio de Git\n",
    "- Crear una Cuenta en GitHub\n",
    "    - Crear un repositorio que se llame reduccion_datos_ecfm\n",
    "    - Agregar al repositorio la tarea\n",
    "- Documentar en otra celda en este notebook que tipos de datos de experimentos quisiera trabajar.Ç\n",
    "\n",
    "\n",
    "#### Entregable:\n",
    "- Enviar al correo erick.diaz@ecfm.usac.edu.gt un correo con asunto \"Tarea 1 - Reduccion de Datos\" y adjuntar el link hacia un repositorio con la tarea 1a\n",
    "#### Material Apoyo:\n",
    "- [Markdown CheatSheet](https://www.markdownguide.org/cheat-sheet/)"
   ]
  },
  {
   "cell_type": "markdown",
   "id": "974af0b6",
   "metadata": {},
   "source": [
    "## Importancia de Versionar el Código en Investigación en Física  \n",
    "Versionar el código es fundamental en la investigación en física porque permite un seguimiento detallado de los cambios, facilita la colaboración entre investigadores y garantiza la reproducibilidad de los experimentos. A través de sistemas de control de versiones como Git, los físicos pueden trabajar en equipo sin perder el historial de modificaciones, comparar resultados de distintas versiones y restaurar códigos previos en caso de errores. Esto mejora la transparencia y fiabilidad de los estudios científicos.\n",
    "\n",
    "## Git y GitHub  \n",
    "Git es un sistema de control de versiones distribuido que permite gestionar y rastrear cambios en el código de manera eficiente. Permite a múltiples desarrolladores trabajar en paralelo sin conflictos. GitHub, por su parte, es una plataforma en la nube que aloja repositorios Git y facilita la colaboración, integración continua y documentación de proyectos. En investigación, GitHub permite compartir código con la comunidad científica y mantener registros detallados del desarrollo del software.\n",
    "\n",
    "## ¿Qué es un Repositorio de Git?  \n",
    "Un repositorio de Git es un espacio donde se almacena el código fuente junto con su historial de versiones. Puede ser local, en la computadora del usuario, o remoto, alojado en plataformas como GitHub. Un repositorio contiene los archivos del proyecto, registros de cambios (commits), ramas para desarrollo paralelo y permite la colaboración efectiva entre múltiples contribuyentes. Es una herramienta clave en el desarrollo de software y en la investigación científica.\n"
   ]
  },
  {
   "cell_type": "markdown",
   "id": "6ecc5f50",
   "metadata": {},
   "source": [
    "## ¿Qué tipos de datos o experimentos me gustaría trabajar?  \n",
    "Me gustaría trabajar en problemas de bacterias, modelos poblacionales y también me gustaría trabajar en economía, en cualquier tema que tenga que ver con ello.\n",
    "Además claro de modelos físicos espaciales, de partículas o clásicos."
   ]
  }
 ],
 "metadata": {
  "kernelspec": {
   "display_name": "Python 3 (ipykernel)",
   "language": "python",
   "name": "python3"
  },
  "language_info": {
   "codemirror_mode": {
    "name": "ipython",
    "version": 3
   },
   "file_extension": ".py",
   "mimetype": "text/x-python",
   "name": "python",
   "nbconvert_exporter": "python",
   "pygments_lexer": "ipython3",
   "version": "3.10.16"
  }
 },
 "nbformat": 4,
 "nbformat_minor": 5
}
